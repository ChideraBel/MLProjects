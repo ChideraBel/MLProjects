{
 "cells": [
  {
   "cell_type": "markdown",
   "id": "582e18ed-d633-455d-a4bf-05272a8e961d",
   "metadata": {},
   "source": [
    "**Load and clean the dataset**"
   ]
  },
  {
   "cell_type": "code",
   "execution_count": null,
   "id": "de3d6548-1aef-4bfa-91a7-60dfbf82f54f",
   "metadata": {
    "tags": []
   },
   "outputs": [],
   "source": [
    "import pandas as pd\n",
    "import numpy as np\n",
    "from sklearn import preprocessing\n",
    "\n",
    "concrete_data = pd.read_csv('https://s3-api.us-geo.objectstorage.softlayer.net/cf-courses-data/CognitiveClass/DL0101EN/labs/data/concrete_data.csv')\n",
    "print(concrete_data.head())"
   ]
  },
  {
   "cell_type": "code",
   "execution_count": null,
   "id": "63aded54-b72a-4ab9-bb6f-347ce483ac60",
   "metadata": {
    "tags": []
   },
   "outputs": [],
   "source": [
    "concrete_data.shape"
   ]
  },
  {
   "cell_type": "code",
   "execution_count": null,
   "id": "f3706c99-cdbc-48f6-af79-c26190f3d9fe",
   "metadata": {
    "tags": []
   },
   "outputs": [],
   "source": [
    "concrete_data.describe()"
   ]
  },
  {
   "cell_type": "code",
   "execution_count": null,
   "id": "2031705c-b977-461a-bf84-af53ddd6e3eb",
   "metadata": {
    "tags": []
   },
   "outputs": [],
   "source": [
    "#check if the data is clean\n",
    "concrete_data.isnull().sum()"
   ]
  },
  {
   "cell_type": "code",
   "execution_count": null,
   "id": "cdd59850-cbe1-4953-9223-a875b61019d3",
   "metadata": {
    "tags": []
   },
   "outputs": [],
   "source": [
    "concrete_data_columns = concrete_data.columns\n",
    "\n",
    "#the predictors will be the data from all the other columns except the strength col\n",
    "predictors_data = concrete_data[concrete_data_columns[concrete_data_columns != 'Strength']]\n",
    "target = concrete_data['Strength']"
   ]
  },
  {
   "cell_type": "code",
   "execution_count": null,
   "id": "293338f7-a352-44bb-9156-bdee38969fd6",
   "metadata": {
    "tags": []
   },
   "outputs": [],
   "source": [
    "predictors_data.head()"
   ]
  },
  {
   "cell_type": "code",
   "execution_count": null,
   "id": "e9fb5f8e-4598-4146-8ada-2bade6e8be60",
   "metadata": {
    "tags": []
   },
   "outputs": [],
   "source": [
    "predictors_norm = preprocessing.StandardScaler().fit_transform(predictors_data.astype(float))\n",
    "n_cols = predictors_norm.shape[1]\n",
    "n_cols"
   ]
  },
  {
   "cell_type": "code",
   "execution_count": null,
   "id": "34e7b3e4-ff0d-45ea-9000-8c9f095b1846",
   "metadata": {
    "tags": []
   },
   "outputs": [],
   "source": [
    "import keras\n",
    "from keras.models import Sequential\n",
    "from keras.layers import Dense\n",
    "from sklearn.model_selection import train_test_split"
   ]
  },
  {
   "cell_type": "markdown",
   "id": "3d8ac2c4-bdf3-41c9-98e4-5cff351ff5e6",
   "metadata": {},
   "source": [
    "**Build baseline model**"
   ]
  },
  {
   "cell_type": "code",
   "execution_count": null,
   "id": "306b7081-356d-4132-a3c8-a652edfad0e8",
   "metadata": {
    "tags": []
   },
   "outputs": [],
   "source": [
    "def baseline_regression_model():\n",
    "    #create the model\n",
    "    model = Sequential()\n",
    "    model.add(Dense(10, activation='relu', input_shape=(n_cols,)))\n",
    "    model.add(Dense(1))\n",
    "    \n",
    "    #compile the model\n",
    "    model.compile(optimizer='adam', loss='mean_squared_error')\n",
    "    return model"
   ]
  },
  {
   "cell_type": "markdown",
   "id": "5454e699-6074-4d00-a8a9-0c8a3a327c06",
   "metadata": {},
   "source": [
    "**Train and Test the network**"
   ]
  },
  {
   "cell_type": "code",
   "execution_count": null,
   "id": "e40dd7c4-8d75-4696-948d-a06ac85942be",
   "metadata": {
    "tags": []
   },
   "outputs": [],
   "source": [
    "X_train, X_test, y_train, y_test = train_test_split(predictors_norm, target, test_size=0.3, random_state=4)"
   ]
  },
  {
   "cell_type": "code",
   "execution_count": null,
   "id": "fecb210a-6833-4ee8-8505-52e6c2276684",
   "metadata": {
    "tags": []
   },
   "outputs": [],
   "source": [
    "model = baseline_regression_model()\n",
    "model.fit(X_train, y_train, epochs=50)"
   ]
  },
  {
   "cell_type": "code",
   "execution_count": null,
   "id": "b8e47a24-70ae-447a-826b-945e094a31f3",
   "metadata": {
    "tags": []
   },
   "outputs": [],
   "source": [
    "from sklearn.metrics import mean_squared_error\n",
    "\n",
    "y_predicted = model.predict(X_test)\n",
    "\n",
    "mse = mean_squared_error(y_test, y_predicted)\n",
    "print('Mean squared error is: ', mse)"
   ]
  },
  {
   "cell_type": "code",
   "execution_count": null,
   "id": "82f3b9de-8a15-462a-8b9e-d2d46aaa457c",
   "metadata": {
    "tags": []
   },
   "outputs": [],
   "source": [
    "mses = []\n",
    "\n",
    "for i in range(0, 50):\n",
    "    X_train, X_test, y_train, y_test = train_test_split(predictors_norm, target, test_size=0.3, random_state=i)\n",
    "    model = baseline_regression_model()\n",
    "    model.fit(X_train, y_train, epochs=50)\n",
    "    \n",
    "    y_predicted = model.predict(X_test)\n",
    "    mse = mean_squared_error(y_test, y_predicted)\n",
    "    mses.append(mse)\n",
    "    \n",
    "mean = np.mean(mses)\n",
    "std = np.std(mses)\n",
    "\n",
    "print('The mean {} and standard dev of th{}'.format(mean, std))"
   ]
  },
  {
   "cell_type": "code",
   "execution_count": null,
   "id": "62ffed5b-83f6-4d91-b12e-a4a60e606ab5",
   "metadata": {},
   "outputs": [],
   "source": []
  }
 ],
 "metadata": {
  "kernelspec": {
   "display_name": "Python",
   "language": "python",
   "name": "conda-env-python-py"
  },
  "language_info": {
   "codemirror_mode": {
    "name": "ipython",
    "version": 3
   },
   "file_extension": ".py",
   "mimetype": "text/x-python",
   "name": "python",
   "nbconvert_exporter": "python",
   "pygments_lexer": "ipython3",
   "version": "3.7.12"
  }
 },
 "nbformat": 4,
 "nbformat_minor": 5
}
